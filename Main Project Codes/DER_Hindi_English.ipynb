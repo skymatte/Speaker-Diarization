{
  "nbformat": 4,
  "nbformat_minor": 0,
  "metadata": {
    "colab": {
      "name": "DER Hindi English.ipynb",
      "provenance": [],
      "collapsed_sections": []
    },
    "kernelspec": {
      "name": "python3",
      "display_name": "Python 3"
    },
    "accelerator": "GPU",
    "widgets": {
      "application/vnd.jupyter.widget-state+json": {
        "d7063d66c43e4c439ddcd38ecaf6ad46": {
          "model_module": "@jupyter-widgets/controls",
          "model_name": "HBoxModel",
          "state": {
            "_view_name": "HBoxView",
            "_dom_classes": [],
            "_model_name": "HBoxModel",
            "_view_module": "@jupyter-widgets/controls",
            "_model_module_version": "1.5.0",
            "_view_count": null,
            "_view_module_version": "1.5.0",
            "box_style": "",
            "layout": "IPY_MODEL_de938efce621439b85caa144c1d9b7f2",
            "_model_module": "@jupyter-widgets/controls",
            "children": [
              "IPY_MODEL_d050eff234e44a3986ecaa574846663f",
              "IPY_MODEL_d675bf0e51e7411e8400a1f6cdd7e5fb"
            ]
          }
        },
        "de938efce621439b85caa144c1d9b7f2": {
          "model_module": "@jupyter-widgets/base",
          "model_name": "LayoutModel",
          "state": {
            "_view_name": "LayoutView",
            "grid_template_rows": null,
            "right": null,
            "justify_content": null,
            "_view_module": "@jupyter-widgets/base",
            "overflow": null,
            "_model_module_version": "1.2.0",
            "_view_count": null,
            "flex_flow": null,
            "width": null,
            "min_width": null,
            "border": null,
            "align_items": null,
            "bottom": null,
            "_model_module": "@jupyter-widgets/base",
            "top": null,
            "grid_column": null,
            "overflow_y": null,
            "overflow_x": null,
            "grid_auto_flow": null,
            "grid_area": null,
            "grid_template_columns": null,
            "flex": null,
            "_model_name": "LayoutModel",
            "justify_items": null,
            "grid_row": null,
            "max_height": null,
            "align_content": null,
            "visibility": null,
            "align_self": null,
            "height": null,
            "min_height": null,
            "padding": null,
            "grid_auto_rows": null,
            "grid_gap": null,
            "max_width": null,
            "order": null,
            "_view_module_version": "1.2.0",
            "grid_template_areas": null,
            "object_position": null,
            "object_fit": null,
            "grid_auto_columns": null,
            "margin": null,
            "display": null,
            "left": null
          }
        },
        "d050eff234e44a3986ecaa574846663f": {
          "model_module": "@jupyter-widgets/controls",
          "model_name": "FloatProgressModel",
          "state": {
            "_view_name": "ProgressView",
            "style": "IPY_MODEL_152c421c25904b59a9e7337a12ae380c",
            "_dom_classes": [],
            "description": "100%",
            "_model_name": "FloatProgressModel",
            "bar_style": "success",
            "max": 901,
            "_view_module": "@jupyter-widgets/controls",
            "_model_module_version": "1.5.0",
            "value": 901,
            "_view_count": null,
            "_view_module_version": "1.5.0",
            "orientation": "horizontal",
            "min": 0,
            "description_tooltip": null,
            "_model_module": "@jupyter-widgets/controls",
            "layout": "IPY_MODEL_5bbde50b711b4ca996d8180e6e71b454"
          }
        },
        "d675bf0e51e7411e8400a1f6cdd7e5fb": {
          "model_module": "@jupyter-widgets/controls",
          "model_name": "HTMLModel",
          "state": {
            "_view_name": "HTMLView",
            "style": "IPY_MODEL_2a25fa08514f4ef5a8e040c040bd1ccd",
            "_dom_classes": [],
            "description": "",
            "_model_name": "HTMLModel",
            "placeholder": "​",
            "_view_module": "@jupyter-widgets/controls",
            "_model_module_version": "1.5.0",
            "value": " 901/901 [00:00&lt;00:00, 17.1kB/s]",
            "_view_count": null,
            "_view_module_version": "1.5.0",
            "description_tooltip": null,
            "_model_module": "@jupyter-widgets/controls",
            "layout": "IPY_MODEL_48d02e28ccb34ee0a5dea100089e0008"
          }
        },
        "152c421c25904b59a9e7337a12ae380c": {
          "model_module": "@jupyter-widgets/controls",
          "model_name": "ProgressStyleModel",
          "state": {
            "_view_name": "StyleView",
            "_model_name": "ProgressStyleModel",
            "description_width": "initial",
            "_view_module": "@jupyter-widgets/base",
            "_model_module_version": "1.5.0",
            "_view_count": null,
            "_view_module_version": "1.2.0",
            "bar_color": null,
            "_model_module": "@jupyter-widgets/controls"
          }
        },
        "5bbde50b711b4ca996d8180e6e71b454": {
          "model_module": "@jupyter-widgets/base",
          "model_name": "LayoutModel",
          "state": {
            "_view_name": "LayoutView",
            "grid_template_rows": null,
            "right": null,
            "justify_content": null,
            "_view_module": "@jupyter-widgets/base",
            "overflow": null,
            "_model_module_version": "1.2.0",
            "_view_count": null,
            "flex_flow": null,
            "width": null,
            "min_width": null,
            "border": null,
            "align_items": null,
            "bottom": null,
            "_model_module": "@jupyter-widgets/base",
            "top": null,
            "grid_column": null,
            "overflow_y": null,
            "overflow_x": null,
            "grid_auto_flow": null,
            "grid_area": null,
            "grid_template_columns": null,
            "flex": null,
            "_model_name": "LayoutModel",
            "justify_items": null,
            "grid_row": null,
            "max_height": null,
            "align_content": null,
            "visibility": null,
            "align_self": null,
            "height": null,
            "min_height": null,
            "padding": null,
            "grid_auto_rows": null,
            "grid_gap": null,
            "max_width": null,
            "order": null,
            "_view_module_version": "1.2.0",
            "grid_template_areas": null,
            "object_position": null,
            "object_fit": null,
            "grid_auto_columns": null,
            "margin": null,
            "display": null,
            "left": null
          }
        },
        "2a25fa08514f4ef5a8e040c040bd1ccd": {
          "model_module": "@jupyter-widgets/controls",
          "model_name": "DescriptionStyleModel",
          "state": {
            "_view_name": "StyleView",
            "_model_name": "DescriptionStyleModel",
            "description_width": "",
            "_view_module": "@jupyter-widgets/base",
            "_model_module_version": "1.5.0",
            "_view_count": null,
            "_view_module_version": "1.2.0",
            "_model_module": "@jupyter-widgets/controls"
          }
        },
        "48d02e28ccb34ee0a5dea100089e0008": {
          "model_module": "@jupyter-widgets/base",
          "model_name": "LayoutModel",
          "state": {
            "_view_name": "LayoutView",
            "grid_template_rows": null,
            "right": null,
            "justify_content": null,
            "_view_module": "@jupyter-widgets/base",
            "overflow": null,
            "_model_module_version": "1.2.0",
            "_view_count": null,
            "flex_flow": null,
            "width": null,
            "min_width": null,
            "border": null,
            "align_items": null,
            "bottom": null,
            "_model_module": "@jupyter-widgets/base",
            "top": null,
            "grid_column": null,
            "overflow_y": null,
            "overflow_x": null,
            "grid_auto_flow": null,
            "grid_area": null,
            "grid_template_columns": null,
            "flex": null,
            "_model_name": "LayoutModel",
            "justify_items": null,
            "grid_row": null,
            "max_height": null,
            "align_content": null,
            "visibility": null,
            "align_self": null,
            "height": null,
            "min_height": null,
            "padding": null,
            "grid_auto_rows": null,
            "grid_gap": null,
            "max_width": null,
            "order": null,
            "_view_module_version": "1.2.0",
            "grid_template_areas": null,
            "object_position": null,
            "object_fit": null,
            "grid_auto_columns": null,
            "margin": null,
            "display": null,
            "left": null
          }
        },
        "1c1205bfe40f471c8583f8f604faa724": {
          "model_module": "@jupyter-widgets/controls",
          "model_name": "HBoxModel",
          "state": {
            "_view_name": "HBoxView",
            "_dom_classes": [],
            "_model_name": "HBoxModel",
            "_view_module": "@jupyter-widgets/controls",
            "_model_module_version": "1.5.0",
            "_view_count": null,
            "_view_module_version": "1.5.0",
            "box_style": "",
            "layout": "IPY_MODEL_114452b6e4304ba191e42408cc973abd",
            "_model_module": "@jupyter-widgets/controls",
            "children": [
              "IPY_MODEL_4da0dcd52a374f34a7e938f8b0903eea",
              "IPY_MODEL_bd59708867984a2ebb10396d0be6eac6"
            ]
          }
        },
        "114452b6e4304ba191e42408cc973abd": {
          "model_module": "@jupyter-widgets/base",
          "model_name": "LayoutModel",
          "state": {
            "_view_name": "LayoutView",
            "grid_template_rows": null,
            "right": null,
            "justify_content": null,
            "_view_module": "@jupyter-widgets/base",
            "overflow": null,
            "_model_module_version": "1.2.0",
            "_view_count": null,
            "flex_flow": null,
            "width": null,
            "min_width": null,
            "border": null,
            "align_items": null,
            "bottom": null,
            "_model_module": "@jupyter-widgets/base",
            "top": null,
            "grid_column": null,
            "overflow_y": null,
            "overflow_x": null,
            "grid_auto_flow": null,
            "grid_area": null,
            "grid_template_columns": null,
            "flex": null,
            "_model_name": "LayoutModel",
            "justify_items": null,
            "grid_row": null,
            "max_height": null,
            "align_content": null,
            "visibility": null,
            "align_self": null,
            "height": null,
            "min_height": null,
            "padding": null,
            "grid_auto_rows": null,
            "grid_gap": null,
            "max_width": null,
            "order": null,
            "_view_module_version": "1.2.0",
            "grid_template_areas": null,
            "object_position": null,
            "object_fit": null,
            "grid_auto_columns": null,
            "margin": null,
            "display": null,
            "left": null
          }
        },
        "4da0dcd52a374f34a7e938f8b0903eea": {
          "model_module": "@jupyter-widgets/controls",
          "model_name": "FloatProgressModel",
          "state": {
            "_view_name": "ProgressView",
            "style": "IPY_MODEL_5d79c37c0f9547028611750c9f992064",
            "_dom_classes": [],
            "description": "100%",
            "_model_name": "FloatProgressModel",
            "bar_style": "success",
            "max": 17125163,
            "_view_module": "@jupyter-widgets/controls",
            "_model_module_version": "1.5.0",
            "value": 17125163,
            "_view_count": null,
            "_view_module_version": "1.5.0",
            "orientation": "horizontal",
            "min": 0,
            "description_tooltip": null,
            "_model_module": "@jupyter-widgets/controls",
            "layout": "IPY_MODEL_f57f8d97af814e3db379cd936668e1e6"
          }
        },
        "bd59708867984a2ebb10396d0be6eac6": {
          "model_module": "@jupyter-widgets/controls",
          "model_name": "HTMLModel",
          "state": {
            "_view_name": "HTMLView",
            "style": "IPY_MODEL_241972e9a3b443f2af052489ff7dde66",
            "_dom_classes": [],
            "description": "",
            "_model_name": "HTMLModel",
            "placeholder": "​",
            "_view_module": "@jupyter-widgets/controls",
            "_model_module_version": "1.5.0",
            "value": " 16.3M/16.3M [00:00&lt;00:00, 38.5MB/s]",
            "_view_count": null,
            "_view_module_version": "1.5.0",
            "description_tooltip": null,
            "_model_module": "@jupyter-widgets/controls",
            "layout": "IPY_MODEL_3cd04b35ee734b60a606a6e175a74d9b"
          }
        },
        "5d79c37c0f9547028611750c9f992064": {
          "model_module": "@jupyter-widgets/controls",
          "model_name": "ProgressStyleModel",
          "state": {
            "_view_name": "StyleView",
            "_model_name": "ProgressStyleModel",
            "description_width": "initial",
            "_view_module": "@jupyter-widgets/base",
            "_model_module_version": "1.5.0",
            "_view_count": null,
            "_view_module_version": "1.2.0",
            "bar_color": null,
            "_model_module": "@jupyter-widgets/controls"
          }
        },
        "f57f8d97af814e3db379cd936668e1e6": {
          "model_module": "@jupyter-widgets/base",
          "model_name": "LayoutModel",
          "state": {
            "_view_name": "LayoutView",
            "grid_template_rows": null,
            "right": null,
            "justify_content": null,
            "_view_module": "@jupyter-widgets/base",
            "overflow": null,
            "_model_module_version": "1.2.0",
            "_view_count": null,
            "flex_flow": null,
            "width": null,
            "min_width": null,
            "border": null,
            "align_items": null,
            "bottom": null,
            "_model_module": "@jupyter-widgets/base",
            "top": null,
            "grid_column": null,
            "overflow_y": null,
            "overflow_x": null,
            "grid_auto_flow": null,
            "grid_area": null,
            "grid_template_columns": null,
            "flex": null,
            "_model_name": "LayoutModel",
            "justify_items": null,
            "grid_row": null,
            "max_height": null,
            "align_content": null,
            "visibility": null,
            "align_self": null,
            "height": null,
            "min_height": null,
            "padding": null,
            "grid_auto_rows": null,
            "grid_gap": null,
            "max_width": null,
            "order": null,
            "_view_module_version": "1.2.0",
            "grid_template_areas": null,
            "object_position": null,
            "object_fit": null,
            "grid_auto_columns": null,
            "margin": null,
            "display": null,
            "left": null
          }
        },
        "241972e9a3b443f2af052489ff7dde66": {
          "model_module": "@jupyter-widgets/controls",
          "model_name": "DescriptionStyleModel",
          "state": {
            "_view_name": "StyleView",
            "_model_name": "DescriptionStyleModel",
            "description_width": "",
            "_view_module": "@jupyter-widgets/base",
            "_model_module_version": "1.5.0",
            "_view_count": null,
            "_view_module_version": "1.2.0",
            "_model_module": "@jupyter-widgets/controls"
          }
        },
        "3cd04b35ee734b60a606a6e175a74d9b": {
          "model_module": "@jupyter-widgets/base",
          "model_name": "LayoutModel",
          "state": {
            "_view_name": "LayoutView",
            "grid_template_rows": null,
            "right": null,
            "justify_content": null,
            "_view_module": "@jupyter-widgets/base",
            "overflow": null,
            "_model_module_version": "1.2.0",
            "_view_count": null,
            "flex_flow": null,
            "width": null,
            "min_width": null,
            "border": null,
            "align_items": null,
            "bottom": null,
            "_model_module": "@jupyter-widgets/base",
            "top": null,
            "grid_column": null,
            "overflow_y": null,
            "overflow_x": null,
            "grid_auto_flow": null,
            "grid_area": null,
            "grid_template_columns": null,
            "flex": null,
            "_model_name": "LayoutModel",
            "justify_items": null,
            "grid_row": null,
            "max_height": null,
            "align_content": null,
            "visibility": null,
            "align_self": null,
            "height": null,
            "min_height": null,
            "padding": null,
            "grid_auto_rows": null,
            "grid_gap": null,
            "max_width": null,
            "order": null,
            "_view_module_version": "1.2.0",
            "grid_template_areas": null,
            "object_position": null,
            "object_fit": null,
            "grid_auto_columns": null,
            "margin": null,
            "display": null,
            "left": null
          }
        }
      }
    }
  },
  "cells": [
    {
      "cell_type": "markdown",
      "metadata": {
        "id": "YODxtZqnlPUf"
      },
      "source": [
        "#Mounting drive,  Installing libraries and importing them"
      ]
    },
    {
      "cell_type": "code",
      "metadata": {
        "id": "3afanqemkK3H",
        "colab": {
          "base_uri": "https://localhost:8080/"
        },
        "outputId": "89f3160f-9d9e-4d25-9937-3fb2256d5654"
      },
      "source": [
        "from google.colab import drive\n",
        "drive.mount(\"/content/drive\", force_remount=True)"
      ],
      "execution_count": 1,
      "outputs": [
        {
          "output_type": "stream",
          "text": [
            "Mounted at /content/drive\n"
          ],
          "name": "stdout"
        }
      ]
    },
    {
      "cell_type": "code",
      "metadata": {
        "colab": {
          "base_uri": "https://localhost:8080/"
        },
        "id": "AtTZJLWrYb2_",
        "outputId": "9e9716d6-51e0-4696-a575-904744417278"
      },
      "source": [
        "!pip install pyannote.audio==1.1.1\n",
        "!pip install webrtcvad"
      ],
      "execution_count": 2,
      "outputs": [
        {
          "output_type": "stream",
          "text": [
            "Collecting pyannote.audio==1.1.1\n",
            "\u001b[?25l  Downloading https://files.pythonhosted.org/packages/b8/9e/3539c9d74a477eba4051aadb2a686b99249358f9d8f513780acab2d2a54e/pyannote.audio-1.1.1-py3-none-any.whl (230kB)\n",
            "\u001b[K     |████████████████████████████████| 235kB 5.7MB/s \n",
            "\u001b[?25hRequirement already satisfied: librosa>=0.8.0 in /usr/local/lib/python3.7/dist-packages (from pyannote.audio==1.1.1) (0.8.0)\n",
            "Requirement already satisfied: tqdm>=4.29.1 in /usr/local/lib/python3.7/dist-packages (from pyannote.audio==1.1.1) (4.41.1)\n",
            "Requirement already satisfied: cachetools>=2.0.0 in /usr/local/lib/python3.7/dist-packages (from pyannote.audio==1.1.1) (4.2.2)\n",
            "Requirement already satisfied: scikit-learn>=0.20.2 in /usr/local/lib/python3.7/dist-packages (from pyannote.audio==1.1.1) (0.22.2.post1)\n",
            "Collecting pyannote.metrics>=2.3\n",
            "\u001b[?25l  Downloading https://files.pythonhosted.org/packages/76/44/39e79594474eb99a23b26cb0104d78f6f20e4f8de3a26d67f24d2ea9ef28/pyannote.metrics-3.0.1-py3-none-any.whl (49kB)\n",
            "\u001b[K     |████████████████████████████████| 51kB 6.2MB/s \n",
            "\u001b[?25hCollecting sortedcollections>=1.0.1\n",
            "  Downloading https://files.pythonhosted.org/packages/6e/39/c993a7d0c9dbf3aeca5008bdd00e4436ad9b7170527cef0a14634b47001f/sortedcollections-2.1.0-py3-none-any.whl\n",
            "Requirement already satisfied: soundfile>=0.10.2 in /usr/local/lib/python3.7/dist-packages (from pyannote.audio==1.1.1) (0.10.3.post1)\n",
            "Requirement already satisfied: typing-extensions>=3.7.4; python_version < \"3.8\" in /usr/local/lib/python3.7/dist-packages (from pyannote.audio==1.1.1) (3.7.4.3)\n",
            "Requirement already satisfied: pandas>=0.18.0 in /usr/local/lib/python3.7/dist-packages (from pyannote.audio==1.1.1) (1.1.5)\n",
            "Collecting pyannote.core>=4.1\n",
            "\u001b[?25l  Downloading https://files.pythonhosted.org/packages/ba/09/64e64cedccf764be513405d1ff3d3d2bbcbea60d18fb6a6d9e815aedcd79/pyannote.core-4.1-py3-none-any.whl (56kB)\n",
            "\u001b[K     |████████████████████████████████| 61kB 7.2MB/s \n",
            "\u001b[?25hRequirement already satisfied: sortedcontainers>=2.0.4 in /usr/local/lib/python3.7/dist-packages (from pyannote.audio==1.1.1) (2.3.0)\n",
            "Requirement already satisfied: pyYAML>=3.12 in /usr/local/lib/python3.7/dist-packages (from pyannote.audio==1.1.1) (3.13)\n",
            "Collecting pyannote.pipeline<2.0.0,>=1.5.2\n",
            "  Downloading https://files.pythonhosted.org/packages/f2/f7/781bf83a76d5e68ecfdebb9bfbfd20063dbdf8e578a15885a0156cfb228f/pyannote.pipeline-1.5.2-py3-none-any.whl\n",
            "Collecting pescador>=2.1.0\n",
            "  Downloading https://files.pythonhosted.org/packages/75/64/df7b03e8bf0edbf2a07e4666f0b5879919009a73f54f0a828adfe122c0a8/pescador-2.1.0.tar.gz\n",
            "Requirement already satisfied: tensorboard>=2.0.0 in /usr/local/lib/python3.7/dist-packages (from pyannote.audio==1.1.1) (2.4.1)\n",
            "Requirement already satisfied: Pillow>=6.2.1 in /usr/local/lib/python3.7/dist-packages (from pyannote.audio==1.1.1) (7.1.2)\n",
            "Collecting pyannote.database>=4.0\n",
            "\u001b[?25l  Downloading https://files.pythonhosted.org/packages/f8/cb/82d8035dbc3dc9aac80b5475fcac63125fc3669e4d8d07261ee3d8507f57/pyannote.database-4.1-py3-none-any.whl (41kB)\n",
            "\u001b[K     |████████████████████████████████| 51kB 5.6MB/s \n",
            "\u001b[?25hRequirement already satisfied: scipy>=1.0.0 in /usr/local/lib/python3.7/dist-packages (from librosa>=0.8.0->pyannote.audio==1.1.1) (1.4.1)\n",
            "Requirement already satisfied: audioread>=2.0.0 in /usr/local/lib/python3.7/dist-packages (from librosa>=0.8.0->pyannote.audio==1.1.1) (2.1.9)\n",
            "Requirement already satisfied: numpy>=1.15.0 in /usr/local/lib/python3.7/dist-packages (from librosa>=0.8.0->pyannote.audio==1.1.1) (1.19.5)\n",
            "Requirement already satisfied: decorator>=3.0.0 in /usr/local/lib/python3.7/dist-packages (from librosa>=0.8.0->pyannote.audio==1.1.1) (4.4.2)\n",
            "Requirement already satisfied: numba>=0.43.0 in /usr/local/lib/python3.7/dist-packages (from librosa>=0.8.0->pyannote.audio==1.1.1) (0.51.2)\n",
            "Requirement already satisfied: pooch>=1.0 in /usr/local/lib/python3.7/dist-packages (from librosa>=0.8.0->pyannote.audio==1.1.1) (1.3.0)\n",
            "Requirement already satisfied: resampy>=0.2.2 in /usr/local/lib/python3.7/dist-packages (from librosa>=0.8.0->pyannote.audio==1.1.1) (0.2.2)\n",
            "Requirement already satisfied: joblib>=0.14 in /usr/local/lib/python3.7/dist-packages (from librosa>=0.8.0->pyannote.audio==1.1.1) (1.0.1)\n",
            "Requirement already satisfied: sympy>=1.1 in /usr/local/lib/python3.7/dist-packages (from pyannote.metrics>=2.3->pyannote.audio==1.1.1) (1.7.1)\n",
            "Requirement already satisfied: tabulate>=0.7.7 in /usr/local/lib/python3.7/dist-packages (from pyannote.metrics>=2.3->pyannote.audio==1.1.1) (0.8.9)\n",
            "Requirement already satisfied: docopt>=0.6.2 in /usr/local/lib/python3.7/dist-packages (from pyannote.metrics>=2.3->pyannote.audio==1.1.1) (0.6.2)\n",
            "Requirement already satisfied: matplotlib>=2.0.0 in /usr/local/lib/python3.7/dist-packages (from pyannote.metrics>=2.3->pyannote.audio==1.1.1) (3.2.2)\n",
            "Requirement already satisfied: cffi>=1.0 in /usr/local/lib/python3.7/dist-packages (from soundfile>=0.10.2->pyannote.audio==1.1.1) (1.14.5)\n",
            "Requirement already satisfied: pytz>=2017.2 in /usr/local/lib/python3.7/dist-packages (from pandas>=0.18.0->pyannote.audio==1.1.1) (2018.9)\n",
            "Requirement already satisfied: python-dateutil>=2.7.3 in /usr/local/lib/python3.7/dist-packages (from pandas>=0.18.0->pyannote.audio==1.1.1) (2.8.1)\n",
            "Collecting simplejson>=3.8.1\n",
            "\u001b[?25l  Downloading https://files.pythonhosted.org/packages/a8/04/377418ac1e530ce2a196b54c6552c018fdf1fe776718053efb1f216bffcd/simplejson-3.17.2-cp37-cp37m-manylinux2010_x86_64.whl (128kB)\n",
            "\u001b[K     |████████████████████████████████| 133kB 34.5MB/s \n",
            "\u001b[?25hCollecting optuna>=1.4\n",
            "\u001b[?25l  Downloading https://files.pythonhosted.org/packages/2b/21/d13081805e1e1afc71f5bb743ece324c8bd576237c51b899ecb38a717502/optuna-2.7.0-py3-none-any.whl (293kB)\n",
            "\u001b[K     |████████████████████████████████| 296kB 39.5MB/s \n",
            "\u001b[?25hRequirement already satisfied: filelock>=3.0.10 in /usr/local/lib/python3.7/dist-packages (from pyannote.pipeline<2.0.0,>=1.5.2->pyannote.audio==1.1.1) (3.0.12)\n",
            "Requirement already satisfied: six>=1.8 in /usr/local/lib/python3.7/dist-packages (from pescador>=2.1.0->pyannote.audio==1.1.1) (1.15.0)\n",
            "Requirement already satisfied: pyzmq>=15.0 in /usr/local/lib/python3.7/dist-packages (from pescador>=2.1.0->pyannote.audio==1.1.1) (22.0.3)\n",
            "Requirement already satisfied: requests<3,>=2.21.0 in /usr/local/lib/python3.7/dist-packages (from tensorboard>=2.0.0->pyannote.audio==1.1.1) (2.23.0)\n",
            "Requirement already satisfied: absl-py>=0.4 in /usr/local/lib/python3.7/dist-packages (from tensorboard>=2.0.0->pyannote.audio==1.1.1) (0.12.0)\n",
            "Requirement already satisfied: wheel>=0.26; python_version >= \"3\" in /usr/local/lib/python3.7/dist-packages (from tensorboard>=2.0.0->pyannote.audio==1.1.1) (0.36.2)\n",
            "Requirement already satisfied: tensorboard-plugin-wit>=1.6.0 in /usr/local/lib/python3.7/dist-packages (from tensorboard>=2.0.0->pyannote.audio==1.1.1) (1.8.0)\n",
            "Requirement already satisfied: markdown>=2.6.8 in /usr/local/lib/python3.7/dist-packages (from tensorboard>=2.0.0->pyannote.audio==1.1.1) (3.3.4)\n",
            "Requirement already satisfied: setuptools>=41.0.0 in /usr/local/lib/python3.7/dist-packages (from tensorboard>=2.0.0->pyannote.audio==1.1.1) (56.1.0)\n",
            "Requirement already satisfied: google-auth-oauthlib<0.5,>=0.4.1 in /usr/local/lib/python3.7/dist-packages (from tensorboard>=2.0.0->pyannote.audio==1.1.1) (0.4.4)\n",
            "Requirement already satisfied: google-auth<2,>=1.6.3 in /usr/local/lib/python3.7/dist-packages (from tensorboard>=2.0.0->pyannote.audio==1.1.1) (1.30.0)\n",
            "Requirement already satisfied: protobuf>=3.6.0 in /usr/local/lib/python3.7/dist-packages (from tensorboard>=2.0.0->pyannote.audio==1.1.1) (3.12.4)\n",
            "Requirement already satisfied: werkzeug>=0.11.15 in /usr/local/lib/python3.7/dist-packages (from tensorboard>=2.0.0->pyannote.audio==1.1.1) (2.0.0)\n",
            "Requirement already satisfied: grpcio>=1.24.3 in /usr/local/lib/python3.7/dist-packages (from tensorboard>=2.0.0->pyannote.audio==1.1.1) (1.32.0)\n",
            "Collecting typer[all]>=0.2.1\n",
            "  Downloading https://files.pythonhosted.org/packages/90/34/d138832f6945432c638f32137e6c79a3b682f06a63c488dcfaca6b166c64/typer-0.3.2-py3-none-any.whl\n",
            "Requirement already satisfied: llvmlite<0.35,>=0.34.0.dev0 in /usr/local/lib/python3.7/dist-packages (from numba>=0.43.0->librosa>=0.8.0->pyannote.audio==1.1.1) (0.34.0)\n",
            "Requirement already satisfied: packaging in /usr/local/lib/python3.7/dist-packages (from pooch>=1.0->librosa>=0.8.0->pyannote.audio==1.1.1) (20.9)\n",
            "Requirement already satisfied: appdirs in /usr/local/lib/python3.7/dist-packages (from pooch>=1.0->librosa>=0.8.0->pyannote.audio==1.1.1) (1.4.4)\n",
            "Requirement already satisfied: mpmath>=0.19 in /usr/local/lib/python3.7/dist-packages (from sympy>=1.1->pyannote.metrics>=2.3->pyannote.audio==1.1.1) (1.2.1)\n",
            "Requirement already satisfied: pyparsing!=2.0.4,!=2.1.2,!=2.1.6,>=2.0.1 in /usr/local/lib/python3.7/dist-packages (from matplotlib>=2.0.0->pyannote.metrics>=2.3->pyannote.audio==1.1.1) (2.4.7)\n",
            "Requirement already satisfied: kiwisolver>=1.0.1 in /usr/local/lib/python3.7/dist-packages (from matplotlib>=2.0.0->pyannote.metrics>=2.3->pyannote.audio==1.1.1) (1.3.1)\n",
            "Requirement already satisfied: cycler>=0.10 in /usr/local/lib/python3.7/dist-packages (from matplotlib>=2.0.0->pyannote.metrics>=2.3->pyannote.audio==1.1.1) (0.10.0)\n",
            "Requirement already satisfied: pycparser in /usr/local/lib/python3.7/dist-packages (from cffi>=1.0->soundfile>=0.10.2->pyannote.audio==1.1.1) (2.20)\n",
            "Requirement already satisfied: sqlalchemy>=1.1.0 in /usr/local/lib/python3.7/dist-packages (from optuna>=1.4->pyannote.pipeline<2.0.0,>=1.5.2->pyannote.audio==1.1.1) (1.4.15)\n",
            "Collecting colorlog\n",
            "  Downloading https://files.pythonhosted.org/packages/32/e6/e9ddc6fa1104fda718338b341e4b3dc31cd8039ab29e52fc73b508515361/colorlog-5.0.1-py2.py3-none-any.whl\n",
            "Collecting alembic\n",
            "\u001b[?25l  Downloading https://files.pythonhosted.org/packages/ab/ff/375a0a81965a7ad4e23d1786de218e9bae050c4d3927cc9b2783aa045401/alembic-1.6.2.tar.gz (1.2MB)\n",
            "\u001b[K     |████████████████████████████████| 1.2MB 32.0MB/s \n",
            "\u001b[?25hCollecting cliff\n",
            "\u001b[?25l  Downloading https://files.pythonhosted.org/packages/a2/d6/7d9acb68a77acd140be7fececb7f2701b2a29d2da9c54184cb8f93509590/cliff-3.7.0-py3-none-any.whl (80kB)\n",
            "\u001b[K     |████████████████████████████████| 81kB 9.4MB/s \n",
            "\u001b[?25hCollecting cmaes>=0.8.2\n",
            "  Downloading https://files.pythonhosted.org/packages/01/1f/43b01223a0366171f474320c6e966c39a11587287f098a5f09809b45e05f/cmaes-0.8.2-py3-none-any.whl\n",
            "Requirement already satisfied: chardet<4,>=3.0.2 in /usr/local/lib/python3.7/dist-packages (from requests<3,>=2.21.0->tensorboard>=2.0.0->pyannote.audio==1.1.1) (3.0.4)\n",
            "Requirement already satisfied: idna<3,>=2.5 in /usr/local/lib/python3.7/dist-packages (from requests<3,>=2.21.0->tensorboard>=2.0.0->pyannote.audio==1.1.1) (2.10)\n",
            "Requirement already satisfied: urllib3!=1.25.0,!=1.25.1,<1.26,>=1.21.1 in /usr/local/lib/python3.7/dist-packages (from requests<3,>=2.21.0->tensorboard>=2.0.0->pyannote.audio==1.1.1) (1.24.3)\n",
            "Requirement already satisfied: certifi>=2017.4.17 in /usr/local/lib/python3.7/dist-packages (from requests<3,>=2.21.0->tensorboard>=2.0.0->pyannote.audio==1.1.1) (2020.12.5)\n",
            "Requirement already satisfied: importlib-metadata; python_version < \"3.8\" in /usr/local/lib/python3.7/dist-packages (from markdown>=2.6.8->tensorboard>=2.0.0->pyannote.audio==1.1.1) (4.0.1)\n",
            "Requirement already satisfied: requests-oauthlib>=0.7.0 in /usr/local/lib/python3.7/dist-packages (from google-auth-oauthlib<0.5,>=0.4.1->tensorboard>=2.0.0->pyannote.audio==1.1.1) (1.3.0)\n",
            "Requirement already satisfied: pyasn1-modules>=0.2.1 in /usr/local/lib/python3.7/dist-packages (from google-auth<2,>=1.6.3->tensorboard>=2.0.0->pyannote.audio==1.1.1) (0.2.8)\n",
            "Requirement already satisfied: rsa<5,>=3.1.4; python_version >= \"3.6\" in /usr/local/lib/python3.7/dist-packages (from google-auth<2,>=1.6.3->tensorboard>=2.0.0->pyannote.audio==1.1.1) (4.7.2)\n",
            "Collecting click<7.2.0,>=7.1.1\n",
            "\u001b[?25l  Downloading https://files.pythonhosted.org/packages/d2/3d/fa76db83bf75c4f8d338c2fd15c8d33fdd7ad23a9b5e57eb6c5de26b430e/click-7.1.2-py2.py3-none-any.whl (82kB)\n",
            "\u001b[K     |████████████████████████████████| 92kB 9.2MB/s \n",
            "\u001b[?25hCollecting colorama<0.5.0,>=0.4.3; extra == \"all\"\n",
            "  Downloading https://files.pythonhosted.org/packages/44/98/5b86278fbbf250d239ae0ecb724f8572af1c91f4a11edf4d36a206189440/colorama-0.4.4-py2.py3-none-any.whl\n",
            "Collecting shellingham<2.0.0,>=1.3.0; extra == \"all\"\n",
            "  Downloading https://files.pythonhosted.org/packages/76/94/7a764d57d0f46534e0022e651da6547bc5cfe7b6372e7e0ed1dde6f5cb67/shellingham-1.4.0-py2.py3-none-any.whl\n",
            "Requirement already satisfied: greenlet!=0.4.17; python_version >= \"3\" in /usr/local/lib/python3.7/dist-packages (from sqlalchemy>=1.1.0->optuna>=1.4->pyannote.pipeline<2.0.0,>=1.5.2->pyannote.audio==1.1.1) (1.1.0)\n",
            "Collecting Mako\n",
            "\u001b[?25l  Downloading https://files.pythonhosted.org/packages/f3/54/dbc07fbb20865d3b78fdb7cf7fa713e2cba4f87f71100074ef2dc9f9d1f7/Mako-1.1.4-py2.py3-none-any.whl (75kB)\n",
            "\u001b[K     |████████████████████████████████| 81kB 8.6MB/s \n",
            "\u001b[?25hCollecting python-editor>=0.3\n",
            "  Downloading https://files.pythonhosted.org/packages/c6/d3/201fc3abe391bbae6606e6f1d598c15d367033332bd54352b12f35513717/python_editor-1.0.4-py3-none-any.whl\n",
            "Collecting stevedore>=2.0.1\n",
            "\u001b[?25l  Downloading https://files.pythonhosted.org/packages/d4/49/b602307aeac3df3384ff1fcd05da9c0376c622a6c48bb5325f28ab165b57/stevedore-3.3.0-py3-none-any.whl (49kB)\n",
            "\u001b[K     |████████████████████████████████| 51kB 5.9MB/s \n",
            "\u001b[?25hCollecting cmd2>=1.0.0\n",
            "\u001b[?25l  Downloading https://files.pythonhosted.org/packages/15/8b/15061b32332bb35ea2a2f6263d0f616779d576e82739ec8e7fcf3c94abf5/cmd2-1.5.0-py3-none-any.whl (133kB)\n",
            "\u001b[K     |████████████████████████████████| 143kB 46.9MB/s \n",
            "\u001b[?25hCollecting pbr!=2.1.0,>=2.0.0\n",
            "\u001b[?25l  Downloading https://files.pythonhosted.org/packages/18/e0/1d4702dd81121d04a477c272d47ee5b6bc970d1a0990b11befa275c55cf2/pbr-5.6.0-py2.py3-none-any.whl (111kB)\n",
            "\u001b[K     |████████████████████████████████| 112kB 45.4MB/s \n",
            "\u001b[?25hRequirement already satisfied: PrettyTable>=0.7.2 in /usr/local/lib/python3.7/dist-packages (from cliff->optuna>=1.4->pyannote.pipeline<2.0.0,>=1.5.2->pyannote.audio==1.1.1) (2.1.0)\n",
            "Requirement already satisfied: zipp>=0.5 in /usr/local/lib/python3.7/dist-packages (from importlib-metadata; python_version < \"3.8\"->markdown>=2.6.8->tensorboard>=2.0.0->pyannote.audio==1.1.1) (3.4.1)\n",
            "Requirement already satisfied: oauthlib>=3.0.0 in /usr/local/lib/python3.7/dist-packages (from requests-oauthlib>=0.7.0->google-auth-oauthlib<0.5,>=0.4.1->tensorboard>=2.0.0->pyannote.audio==1.1.1) (3.1.0)\n",
            "Requirement already satisfied: pyasn1<0.5.0,>=0.4.6 in /usr/local/lib/python3.7/dist-packages (from pyasn1-modules>=0.2.1->google-auth<2,>=1.6.3->tensorboard>=2.0.0->pyannote.audio==1.1.1) (0.4.8)\n",
            "Requirement already satisfied: MarkupSafe>=0.9.2 in /usr/local/lib/python3.7/dist-packages (from Mako->alembic->optuna>=1.4->pyannote.pipeline<2.0.0,>=1.5.2->pyannote.audio==1.1.1) (2.0.0)\n",
            "Collecting pyperclip>=1.6\n",
            "  Downloading https://files.pythonhosted.org/packages/a7/2c/4c64579f847bd5d539803c8b909e54ba087a79d01bb3aba433a95879a6c5/pyperclip-1.8.2.tar.gz\n",
            "Requirement already satisfied: wcwidth>=0.1.7 in /usr/local/lib/python3.7/dist-packages (from cmd2>=1.0.0->cliff->optuna>=1.4->pyannote.pipeline<2.0.0,>=1.5.2->pyannote.audio==1.1.1) (0.2.5)\n",
            "Requirement already satisfied: attrs>=16.3.0 in /usr/local/lib/python3.7/dist-packages (from cmd2>=1.0.0->cliff->optuna>=1.4->pyannote.pipeline<2.0.0,>=1.5.2->pyannote.audio==1.1.1) (21.2.0)\n",
            "Building wheels for collected packages: pescador, alembic, pyperclip\n",
            "  Building wheel for pescador (setup.py) ... \u001b[?25l\u001b[?25hdone\n",
            "  Created wheel for pescador: filename=pescador-2.1.0-cp37-none-any.whl size=21077 sha256=7166c9628b269321e4ed732db3ce4d480c9f3ecebf641903243308d7d41c04db\n",
            "  Stored in directory: /root/.cache/pip/wheels/e7/e7/2d/de501314d1f03d8607aed0f6b48e50d8699f681745003aaa5b\n",
            "  Building wheel for alembic (setup.py) ... \u001b[?25l\u001b[?25hdone\n",
            "  Created wheel for alembic: filename=alembic-1.6.2-py2.py3-none-any.whl size=164219 sha256=0bfba4dd2d909873e3d7b7135efe068fdb55b8c09f42274be612c0332e7520ea\n",
            "  Stored in directory: /root/.cache/pip/wheels/a5/63/44/db29401e49ef5331c163b591f12a465c40af864bfa888dabd2\n",
            "  Building wheel for pyperclip (setup.py) ... \u001b[?25l\u001b[?25hdone\n",
            "  Created wheel for pyperclip: filename=pyperclip-1.8.2-cp37-none-any.whl size=11107 sha256=1b3a2447571ad1bc948845c3ba105a8d8de0618b87ae68b9b9bd779b1fcaa5cb\n",
            "  Stored in directory: /root/.cache/pip/wheels/25/af/b8/3407109267803f4015e1ee2ff23be0c8c19ce4008665931ee1\n",
            "Successfully built pescador alembic pyperclip\n",
            "Installing collected packages: click, colorama, shellingham, typer, simplejson, pyannote.core, pyannote.database, pyannote.metrics, sortedcollections, colorlog, Mako, python-editor, alembic, pbr, stevedore, pyperclip, cmd2, cliff, cmaes, optuna, pyannote.pipeline, pescador, pyannote.audio\n",
            "  Found existing installation: click 8.0.0\n",
            "    Uninstalling click-8.0.0:\n",
            "      Successfully uninstalled click-8.0.0\n",
            "Successfully installed Mako-1.1.4 alembic-1.6.2 click-7.1.2 cliff-3.7.0 cmaes-0.8.2 cmd2-1.5.0 colorama-0.4.4 colorlog-5.0.1 optuna-2.7.0 pbr-5.6.0 pescador-2.1.0 pyannote.audio-1.1.1 pyannote.core-4.1 pyannote.database-4.1 pyannote.metrics-3.0.1 pyannote.pipeline-1.5.2 pyperclip-1.8.2 python-editor-1.0.4 shellingham-1.4.0 simplejson-3.17.2 sortedcollections-2.1.0 stevedore-3.3.0 typer-0.3.2\n",
            "Collecting webrtcvad\n",
            "\u001b[?25l  Downloading https://files.pythonhosted.org/packages/89/34/e2de2d97f3288512b9ea56f92e7452f8207eb5a0096500badf9dfd48f5e6/webrtcvad-2.0.10.tar.gz (66kB)\n",
            "\u001b[K     |████████████████████████████████| 71kB 3.9MB/s \n",
            "\u001b[?25hBuilding wheels for collected packages: webrtcvad\n",
            "  Building wheel for webrtcvad (setup.py) ... \u001b[?25l\u001b[?25hdone\n",
            "  Created wheel for webrtcvad: filename=webrtcvad-2.0.10-cp37-cp37m-linux_x86_64.whl size=72304 sha256=1623235e22b70d8b967a5a94280fbac59e068fe1f7da86aaeb5f2f0d5727e953\n",
            "  Stored in directory: /root/.cache/pip/wheels/44/2a/18/bd1aec41cac7c3051fe95d92a6ed446122ea31dc713c432fa1\n",
            "Successfully built webrtcvad\n",
            "Installing collected packages: webrtcvad\n",
            "Successfully installed webrtcvad-2.0.10\n"
          ],
          "name": "stdout"
        }
      ]
    },
    {
      "cell_type": "code",
      "metadata": {
        "id": "hXgEKgSRklhL"
      },
      "source": [
        "import contextlib   \n",
        "import wave\n",
        "import librosa\n",
        "import webrtcvad\n",
        "\n",
        "import matplotlib.pyplot as plt\n",
        "import numpy as np\n",
        "\n",
        "import keras\n",
        "from keras.layers.core import Dense\n",
        "from keras.models import Sequential\n",
        "from keras.layers import Bidirectional, TimeDistributed, Dropout\n",
        "from keras.layers import LSTM\n",
        "\n",
        "from sklearn.manifold import TSNE\n",
        "from sklearn.cluster import MeanShift\n",
        "from sklearn.preprocessing import StandardScaler\n",
        "import matplotlib.pyplot as plt\n",
        "\n",
        "from pyannote.core import Annotation, Segment\n",
        "\n",
        "from sklearn import preprocessing\n",
        "import pandas as pd\n",
        "\n",
        "from pyannote.metrics.diarization import DiarizationErrorRate\n",
        "from pyannote.metrics.diarization import DiarizationPurity\n",
        "from pyannote.metrics.diarization import DiarizationCoverage"
      ],
      "execution_count": 3,
      "outputs": []
    },
    {
      "cell_type": "markdown",
      "metadata": {
        "id": "o0qTtXUqqYRc"
      },
      "source": [
        "#Location of Best Model & Audio clip"
      ]
    },
    {
      "cell_type": "code",
      "metadata": {
        "id": "i5OCvQ-FqXMf"
      },
      "source": [
        "h5_model_file = '/content/drive/My Drive/Hindi/model_hindi_2.h5' #the path where best model is stored\n",
        "audiofile = '/content/drive/My Drive/Hindi/Test/Hindi_01.wav'  #the path where test audio clip is stored\n",
        "annotation_path = '/content/drive/My Drive/Hindi/Test/hindi_annotations1.csv' #the path where test annotation csv file is stored\n",
        "\n",
        "import sys\n",
        "sys.path.append('/content/drive/MyDrive/Hindi/scripts') #the path where python scripts are stored\n"
      ],
      "execution_count": 6,
      "outputs": []
    },
    {
      "cell_type": "markdown",
      "metadata": {
        "id": "NQpXo4AuEmMC"
      },
      "source": [
        "#Loading the best trained Model"
      ]
    },
    {
      "cell_type": "code",
      "metadata": {
        "id": "hWrP6R8ilaRh",
        "colab": {
          "base_uri": "https://localhost:8080/"
        },
        "outputId": "ff47bf62-5463-4e56-89f4-7ee0b6021b19"
      },
      "source": [
        "%tensorflow_version 1.x\n",
        "\n",
        "model = Sequential()\n",
        "\n",
        "model.add(Bidirectional(LSTM(128, return_sequences=True)))\n",
        "model.add(Bidirectional(LSTM(128, return_sequences=True)))\n",
        "model.add(TimeDistributed(Dense(32)))\n",
        "model.add(TimeDistributed(Dense(32)))\n",
        "model.add(TimeDistributed(Dense(1, activation='sigmoid')))\n",
        "\n",
        "model.build(input_shape=(None, 137, 35))\n",
        "model.summary()\n",
        "\n",
        "\n",
        "model.load_weights(h5_model_file)"
      ],
      "execution_count": 7,
      "outputs": [
        {
          "output_type": "stream",
          "text": [
            "TensorFlow is already loaded. Please restart the runtime to change versions.\n",
            "Model: \"sequential_1\"\n",
            "_________________________________________________________________\n",
            "Layer (type)                 Output Shape              Param #   \n",
            "=================================================================\n",
            "bidirectional_2 (Bidirection (None, 137, 256)          167936    \n",
            "_________________________________________________________________\n",
            "bidirectional_3 (Bidirection (None, 137, 256)          394240    \n",
            "_________________________________________________________________\n",
            "time_distributed_3 (TimeDist (None, 137, 32)           8224      \n",
            "_________________________________________________________________\n",
            "time_distributed_4 (TimeDist (None, 137, 32)           1056      \n",
            "_________________________________________________________________\n",
            "time_distributed_5 (TimeDist (None, 137, 1)            33        \n",
            "=================================================================\n",
            "Total params: 571,489\n",
            "Trainable params: 571,489\n",
            "Non-trainable params: 0\n",
            "_________________________________________________________________\n"
          ],
          "name": "stdout"
        }
      ]
    },
    {
      "cell_type": "markdown",
      "metadata": {
        "id": "AEIOMFTAEsGd"
      },
      "source": [
        "# Importing Voice Activity Detection Module"
      ]
    },
    {
      "cell_type": "code",
      "metadata": {
        "id": "J1JdDad7ndpk",
        "colab": {
          "base_uri": "https://localhost:8080/"
        },
        "outputId": "80675aa8-53bd-4350-8b45-8e9de6c95ba3"
      },
      "source": [
        "#Importing functions from script containing Voice Activity Detection\n",
        "import vad\n",
        "from vad import *\n",
        "\n",
        "voice = fxn(audiofile)"
      ],
      "execution_count": 8,
      "outputs": [
        {
          "output_type": "stream",
          "text": [
            "sample rate 48000\n"
          ],
          "name": "stdout"
        }
      ]
    },
    {
      "cell_type": "markdown",
      "metadata": {
        "id": "TqVcRnWWwzQQ"
      },
      "source": [
        "# Importing Segementation Module \n",
        "\n",
        "### Then segmenting the audio files on basis of speakers\n"
      ]
    },
    {
      "cell_type": "code",
      "metadata": {
        "id": "H3Vj3LZn7ERx",
        "colab": {
          "base_uri": "https://localhost:8080/",
          "height": 330
        },
        "outputId": "ad846494-692c-46cc-8988-c8ce6c2f12c8"
      },
      "source": [
        "import segmentation\n",
        "from segmentation import *\n",
        "\n",
        "segmented = multi_segmentation(audiofile,model)\n",
        "\n",
        "gp = group_intervals(voice)\n",
        "splt = spliting(segmented,gp)\n",
        "resegmented = final_reseg(splt)\n"
      ],
      "execution_count": 9,
      "outputs": [
        {
          "output_type": "stream",
          "text": [
            "(35, 78497)\n",
            "(2305, 137, 35)\n",
            "(2305, 137, 1)\n"
          ],
          "name": "stdout"
        },
        {
          "output_type": "display_data",
          "data": {
            "image/png": "[encoded data removed]",
            "text/plain": [
              "<Figure size 432x288 with 1 Axes>"
            ]
          },
          "metadata": {
            "tags": [],
            "needs_background": "light"
          }
        }
      ]
    },
    {
      "cell_type": "markdown",
      "metadata": {
        "id": "33Kv0dHWxBct"
      },
      "source": [
        "# Importing Embeddings Generation Module \n",
        "\n",
        "### Then generating the embedding of the segmented file obtained from above \n"
      ]
    },
    {
      "cell_type": "code",
      "metadata": {
        "id": "3EjVUubjpB-w",
        "colab": {
          "base_uri": "https://localhost:8080/",
          "height": 234,
          "referenced_widgets": [
            "d7063d66c43e4c439ddcd38ecaf6ad46",
            "de938efce621439b85caa144c1d9b7f2",
            "d050eff234e44a3986ecaa574846663f",
            "d675bf0e51e7411e8400a1f6cdd7e5fb",
            "152c421c25904b59a9e7337a12ae380c",
            "5bbde50b711b4ca996d8180e6e71b454",
            "2a25fa08514f4ef5a8e040c040bd1ccd",
            "48d02e28ccb34ee0a5dea100089e0008",
            "1c1205bfe40f471c8583f8f604faa724",
            "114452b6e4304ba191e42408cc973abd",
            "4da0dcd52a374f34a7e938f8b0903eea",
            "bd59708867984a2ebb10396d0be6eac6",
            "5d79c37c0f9547028611750c9f992064",
            "f57f8d97af814e3db379cd936668e1e6",
            "241972e9a3b443f2af052489ff7dde66",
            "3cd04b35ee734b60a606a6e175a74d9b"
          ]
        },
        "outputId": "a4af6f23-6f93-4d1d-fa42-7e064a41aba1"
      },
      "source": [
        "import Embedding\n",
        "from Embedding import *\n",
        "\n",
        "embeddings = embeddings_(audiofile,resegmented,2)"
      ],
      "execution_count": 10,
      "outputs": [
        {
          "output_type": "stream",
          "text": [
            "Downloading: \"https://github.com/pyannote/pyannote-audio/archive/master.zip\" to /root/.cache/torch/hub/master.zip\n"
          ],
          "name": "stderr"
        },
        {
          "output_type": "stream",
          "text": [
            "Downloading list of pretrained models and pipelines to \"/root/.pyannote/hub/pretrained.yml\".\n"
          ],
          "name": "stdout"
        },
        {
          "output_type": "display_data",
          "data": {
            "application/vnd.jupyter.widget-view+json": {
              "model_id": "d7063d66c43e4c439ddcd38ecaf6ad46",
              "version_minor": 0,
              "version_major": 2
            },
            "text/plain": [
              "HBox(children=(FloatProgress(value=0.0, max=901.0), HTML(value='')))"
            ]
          },
          "metadata": {
            "tags": []
          }
        },
        {
          "output_type": "stream",
          "text": [
            "\n",
            "Downloading pretrained model \"emb_voxceleb\" to \"/root/.pyannote/hub/models/emb_voxceleb.zip\".\n"
          ],
          "name": "stdout"
        },
        {
          "output_type": "display_data",
          "data": {
            "application/vnd.jupyter.widget-view+json": {
              "model_id": "1c1205bfe40f471c8583f8f604faa724",
              "version_minor": 0,
              "version_major": 2
            },
            "text/plain": [
              "HBox(children=(FloatProgress(value=0.0, max=17125163.0), HTML(value='')))"
            ]
          },
          "metadata": {
            "tags": []
          }
        },
        {
          "output_type": "stream",
          "text": [
            "\n"
          ],
          "name": "stdout"
        },
        {
          "output_type": "stream",
          "text": [
            "/usr/local/lib/python3.7/dist-packages/pyannote/audio/embedding/approaches/arcface_loss.py:170: FutureWarning:\n",
            "\n",
            "The 's' parameter is deprecated in favor of 'scale', and will be removed in a future release\n",
            "\n"
          ],
          "name": "stderr"
        }
      ]
    },
    {
      "cell_type": "markdown",
      "metadata": {
        "id": "bKgqzEpO0-hj"
      },
      "source": [
        "# Importing Embeddings Generation Module \n",
        "\n",
        "### Then generating clusters and assigning them with resoective Speaker_id\n"
      ]
    },
    {
      "cell_type": "code",
      "metadata": {
        "colab": {
          "base_uri": "https://localhost:8080/",
          "height": 265
        },
        "id": "9MZmysRjeV00",
        "outputId": "bd9cb348-e9f7-40af-e574-b102434a6e3d"
      },
      "source": [
        "import mean_shift\n",
        "from mean_shift import *\n",
        "\n",
        "speak_id , n_speakers = clustering(embeddings)\n",
        "label_list = []\n",
        "alpha = 'A'\n",
        "for i in range(0, n_speakers): \n",
        "    label_list.append(alpha) \n",
        "    alpha = chr(ord(alpha) + 1) \n",
        "lb = preprocessing.LabelEncoder()\n",
        "label_hyp = lb.fit(label_list)\n",
        "speaker_id = lb.inverse_transform(speak_id)\n",
        "hyp_df = pd.DataFrame({'Speaker_id': speaker_id,'Offset': resegmented[:, 0], 'end': resegmented[:, 1]})\n",
        "result_hypo = hypothesis_gen(hyp_df)  "
      ],
      "execution_count": 11,
      "outputs": [
        {
          "output_type": "display_data",
          "data": {
            "image/png": "[encoded data removed]",
            "text/plain": [
              "<Figure size 432x288 with 1 Axes>"
            ]
          },
          "metadata": {
            "tags": [],
            "needs_background": "light"
          }
        }
      ]
    },
    {
      "cell_type": "code",
      "metadata": {
        "id": "Q1rnqmVUv9YV",
        "colab": {
          "base_uri": "https://localhost:8080/"
        },
        "outputId": "a4301317-a439-4bda-e826-22c861503875"
      },
      "source": [
        "#Evaluation (DER)\n",
        "\n",
        "df = pd.read_csv(annotation_path)\n",
        "ref_df = df[df['filename'] == 'Hindi_01']\n",
        "ref_df = ref_df.assign(end = ref_df.Offset + ref_df.Duration)\n",
        "ref_df = ref_df[['Speaker_id','Offset','end']]\n",
        "ref_records = ref_df.to_records(index=False)\n",
        "ref_rec = list(ref_records)\n",
        "reference = Annotation()\n",
        "for i in range(len(ref_rec)-1):\n",
        "  reference[Segment(ref_rec[i][1], ref_rec[i][2])] = ref_rec[i][0]\n",
        "\n",
        "diarizationErrorRate = DiarizationErrorRate()\n",
        "print(\"DER = {0:.3f}\".format(diarizationErrorRate(reference, result_hypo)))"
      ],
      "execution_count": 12,
      "outputs": [
        {
          "output_type": "stream",
          "text": [
            "DER = 0.222\n"
          ],
          "name": "stdout"
        },
        {
          "output_type": "stream",
          "text": [
            "/usr/local/lib/python3.7/dist-packages/pyannote/metrics/utils.py:184: UserWarning:\n",
            "\n",
            "'uem' was approximated by the union of 'reference' and 'hypothesis' extents.\n",
            "\n"
          ],
          "name": "stderr"
        }
      ]
    },
    {
      "cell_type": "code",
      "metadata": {
        "colab": {
          "base_uri": "https://localhost:8080/",
          "height": 204
        },
        "id": "9faiAhCGgcrm",
        "outputId": "778b87a3-ad2d-4f3c-e8d8-b9ddb3ad974b"
      },
      "source": [
        "reference"
      ],
      "execution_count": 13,
      "outputs": [
        {
          "output_type": "execute_result",
          "data": {
            "image/png": "[encoded data removed]",
            "text/plain": [
              "<pyannote.core.annotation.Annotation at 0x7fe19193f2d0>"
            ]
          },
          "metadata": {
            "tags": []
          },
          "execution_count": 13
        }
      ]
    },
    {
      "cell_type": "code",
      "metadata": {
        "id": "LMfjPaYtv9gM",
        "colab": {
          "base_uri": "https://localhost:8080/",
          "height": 204
        },
        "outputId": "2f6f4d16-24d5-48e9-82c5-e12bf783efa5"
      },
      "source": [
        "result_hypo"
      ],
      "execution_count": 14,
      "outputs": [
        {
          "output_type": "execute_result",
          "data": {
            "image/png": "[encoded data removed]",
            "text/plain": [
              "<pyannote.core.annotation.Annotation at 0x7fe1882d71d0>"
            ]
          },
          "metadata": {
            "tags": []
          },
          "execution_count": 14
        }
      ]
    },
    {
      "cell_type": "code",
      "metadata": {
        "id": "_Tc51TDZwh5d"
      },
      "source": [
        ""
      ],
      "execution_count": 14,
      "outputs": []
    }
  ]
}